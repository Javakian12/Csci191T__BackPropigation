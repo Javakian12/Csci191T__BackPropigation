{
  "nbformat": 4,
  "nbformat_minor": 0,
  "metadata": {
    "colab": {
      "name": "BackPropigation_Programming.ipynb",
      "provenance": []
    },
    "kernelspec": {
      "name": "python3",
      "display_name": "Python 3"
    },
    "language_info": {
      "name": "python"
    }
  },
  "cells": [
    {
      "cell_type": "markdown",
      "metadata": {
        "id": "qpLOx7KxqW-8"
      },
      "source": [
        "Joshua Avakian\n",
        "CSCI 191T\n",
        "12pm - 12:50pm"
      ]
    },
    {
      "cell_type": "code",
      "metadata": {
        "id": "BkGZUCjCgbXA"
      },
      "source": [
        "from sklearn.neural_network import MLPClassifier, MLPRegressor\n",
        "from sklearn.linear_model import LogisticRegression\n",
        "from matplotlib.colors import ListedColormap\n",
        "import matplotlib.pyplot as plt\n",
        "from sklearn import datasets\n",
        "import numpy as np\n",
        "import math\n",
        "import plotly.express as px\n",
        "from sklearn.metrics import accuracy_score\n",
        "from sklearn.decomposition import PCA\n",
        "import itertools\n",
        "import pandas as pd"
      ],
      "execution_count": 14,
      "outputs": []
    },
    {
      "cell_type": "code",
      "metadata": {
        "id": "efQ-QA9eux1l"
      },
      "source": [
        "X = np.array([\n",
        "    0, 0,\n",
        "    0, 1,\n",
        "    1, 0,\n",
        "    1, 1\n",
        "]).reshape(4, 2)\n",
        "\n",
        "R = np.array([0, 1, 1, 0]).reshape(4,)\n",
        "Y = np.array([0, 1, 1, 0]).reshape(4,)"
      ],
      "execution_count": 15,
      "outputs": []
    },
    {
      "cell_type": "code",
      "metadata": {
        "colab": {
          "base_uri": "https://localhost:8080/"
        },
        "id": "egPvmPeYutYL",
        "outputId": "36695688-c6fd-45f4-9613-5999623e783b"
      },
      "source": [
        "pca = PCA(n_components=2) \n",
        "Xred = pca.fit_transform(X) #transformed points\n",
        "print(pca.explained_variance_ratio_, sum(pca.explained_variance_ratio_))\n",
        "print (pca.components_[0,:])\n",
        "print (pca.components_[1,:])\n",
        "print (Xred[0:3,:])\n",
        "\n",
        "print (\"Original Variance=\", X.var(axis=0), sum(X.var(axis=0)))\n",
        "print (\"Projected Variance=\", Xred.var(axis=0), sum(Xred.var(axis=0)))"
      ],
      "execution_count": 16,
      "outputs": [
        {
          "output_type": "stream",
          "name": "stdout",
          "text": [
            "[0.5 0.5] 1.0\n",
            "[-1. -0.]\n",
            "[-0. -1.]\n",
            "[[ 0.5  0.5]\n",
            " [ 0.5 -0.5]\n",
            " [-0.5  0.5]]\n",
            "Original Variance= [0.25 0.25] 0.5\n",
            "Projected Variance= [0.25 0.25] 0.49999999999999994\n"
          ]
        }
      ]
    },
    {
      "cell_type": "markdown",
      "metadata": {
        "id": "Vp_OOT6mB0ZX"
      },
      "source": [
        "## Models and Weight Vectors"
      ]
    },
    {
      "cell_type": "code",
      "metadata": {
        "id": "w208SgXHAwuN",
        "colab": {
          "base_uri": "https://localhost:8080/"
        },
        "outputId": "505bac95-148c-46c2-ebc5-4c8cf6755da0"
      },
      "source": [
        "np.random.seed(34) #change for different weight rand values\n",
        "\n",
        "def F(W,X):\n",
        "  return sum([w*x for w,x in zip(W,X)])\n",
        "def xor(x1, x2):\n",
        "    return bool(x1) != bool(x2)\n",
        "\n",
        "def sigmoid(x):\n",
        "    return 1 / (1 + np.exp(-x))\n",
        "\n",
        "def sigmoid_derivative(sigmoid_result):\n",
        "    return sigmoid_result * (1 - sigmoid_result)\n",
        "\n",
        "def error(target, prediction):\n",
        "    return .5 * (target - prediction)**2\n",
        "\n",
        "def error_derivative(target, prediction):\n",
        "    return - target + prediction\n",
        "def classification(model, X):\n",
        "  return [1 if sigmoid(F(model, x)) > 0.5 else 0 for x in X]\n",
        "\n",
        "\n",
        "Q= lambda w, a: w[0]*a[0] + w[1]*a[1] + w[2]*a[2] + w[3]*a[3]\n",
        "Xcen = X - X.mean(axis=0) #subtract mean from every x\n",
        "print (\"Means=\", X.mean(axis=0)) \n",
        "print (X[0,:]) \n",
        "print (\"Xcen=\", Xcen[0,:])\n",
        "print (pca.components_[0,:])\n",
        "print (F(pca.components_[0,:],Xcen[0,:]))\n",
        "print (F(pca.components_[1,:],Xcen[0,:]))\n",
        "print (Xred[0,:])\n"
      ],
      "execution_count": 17,
      "outputs": [
        {
          "output_type": "stream",
          "name": "stdout",
          "text": [
            "Means= [0.5 0.5]\n",
            "[0 0]\n",
            "Xcen= [-0.5 -0.5]\n",
            "[-1. -0.]\n",
            "0.5\n",
            "0.5\n",
            "[0.5 0.5]\n"
          ]
        }
      ]
    },
    {
      "cell_type": "markdown",
      "metadata": {
        "id": "QHCLNe3hxxfq"
      },
      "source": [
        "# First Accuracy Prediction"
      ]
    },
    {
      "cell_type": "code",
      "metadata": {
        "colab": {
          "base_uri": "https://localhost:8080/"
        },
        "id": "kYmvRvfextfk",
        "outputId": "986fcd3f-b034-4c10-b5a7-a6008b73f69f"
      },
      "source": [
        "lr = LogisticRegression(solver='lbfgs')\n",
        "lr.fit(Xred[:,0].reshape(-1, 1), R)\n",
        "predict = lr.predict(Xred[:,0].reshape(-1, 1))\n",
        "print (\"Variance=\", Xred[:,0].reshape(-1, 1).var(axis=0), sum(Xred[:,0].reshape(-1, 1).var(axis=0)))\n",
        "print(\"Accuracy = \", accuracy_score(predict, R))"
      ],
      "execution_count": 18,
      "outputs": [
        {
          "output_type": "stream",
          "name": "stdout",
          "text": [
            "Variance= [0.25] 0.25\n",
            "Accuracy =  0.5\n"
          ]
        }
      ]
    },
    {
      "cell_type": "markdown",
      "metadata": {
        "id": "hz7Lg5K7h24o"
      },
      "source": [
        "#Back Propagation"
      ]
    },
    {
      "cell_type": "code",
      "metadata": {
        "colab": {
          "base_uri": "https://localhost:8080/"
        },
        "id": "Y8cD-guph4mE",
        "outputId": "22338de5-5904-4add-8c1b-1596526c08ac"
      },
      "source": [
        "x = np.array([[0, 0], [0, 1], [1, 0], [1, 1]])\n",
        "y = np.array([[xor(*i)] for i in x], dtype=int)\n",
        "\n",
        "alpha = 0.02 #learning rate\n",
        "print('Learning Rate:', alpha)\n",
        "\n",
        "n_neurons_input, n_neurons_hidden, n_neurons_output = 2, 2, 1\n",
        "\n",
        "w_hidden = np.random.random(size=(n_neurons_input, n_neurons_hidden))\n",
        "b_hidden = np.random.random(size=(1, n_neurons_hidden))\n",
        "\n",
        "w_output = np.random.random(size=(n_neurons_hidden, n_neurons_output))\n",
        "b_output = np.random.random(size=(1, n_neurons_output))"
      ],
      "execution_count": 19,
      "outputs": [
        {
          "output_type": "stream",
          "name": "stdout",
          "text": [
            "Learning Rate: 0.02\n"
          ]
        }
      ]
    },
    {
      "cell_type": "markdown",
      "metadata": {
        "id": "D8FEbwsYiJwO"
      },
      "source": [
        "#Iterations"
      ]
    },
    {
      "cell_type": "code",
      "metadata": {
        "id": "02ND7sesiYHQ"
      },
      "source": [
        "errors = []\n",
        "params = []\n",
        "grads = []\n",
        "while True:\n",
        "    # forward propigation\n",
        "    y_hidden = sigmoid(np.dot(x, w_hidden) + b_hidden)\n",
        "    y_output = sigmoid(np.dot(y_hidden, w_output) + b_output)\n",
        "\n",
        "    # calculate mean error for all the errors for the epoch\n",
        "    e = error(y, y_output).mean()\n",
        "    if e < 1e-4:\n",
        "        break\n",
        "\n",
        "    # back propigation\n",
        "    grad_output = error_derivative(y, y_output) * sigmoid_derivative(y_output)\n",
        "    grad_hidden = grad_output.dot(w_output.T) * sigmoid_derivative(y_hidden)\n",
        "    # update parameters\n",
        "    w_output -= alpha * y_hidden.T.dot(grad_output)\n",
        "    w_hidden -= alpha * x.T.dot(grad_hidden)\n",
        "\n",
        "    b_output -= alpha * np.sum(grad_output)\n",
        "    b_hidden -= alpha * np.sum(grad_hidden)\n",
        "\n",
        "    errors.append(e)\n",
        "    grads.append(np.concatenate((grad_output.ravel(), grad_hidden.ravel())))\n",
        "    params.append(np.concatenate((w_output.ravel(), b_output.ravel(),\n",
        "                                  w_hidden.ravel(), b_hidden.ravel())))"
      ],
      "execution_count": 20,
      "outputs": []
    },
    {
      "cell_type": "code",
      "metadata": {
        "id": "EK0602j1iinI"
      },
      "source": [
        "def predict(x):\n",
        "  y_hidden = sigmoid(np.dot(x, w_hidden) + b_hidden)\n",
        "  return sigmoid(np.dot(y_hidden, w_output) + b_output)"
      ],
      "execution_count": 21,
      "outputs": []
    },
    {
      "cell_type": "markdown",
      "metadata": {
        "id": "Cg-lkzwKiwdH"
      },
      "source": [
        "#Check For Convergence"
      ]
    },
    {
      "cell_type": "code",
      "metadata": {
        "id": "F0chfrrAiywW",
        "colab": {
          "base_uri": "https://localhost:8080/",
          "height": 585
        },
        "outputId": "e3a10d9f-b345-431d-e205-9e2d31f12568"
      },
      "source": [
        "fig, axes = plt.subplots(3, 1, figsize=(6, 8), sharex=True) \n",
        "\n",
        "pd.DataFrame(errors, columns=['error']).plot(ax=axes[0], logy=True)\n",
        "df_grads = pd.DataFrame(grads)\n",
        "df_params = pd.DataFrame(params)\n",
        "\n",
        "for i in range(4):\n",
        "    axes[1].plot(df_grads.iloc[:, i].abs(), c='b', label='abs(output gradients)' if i==1 else '__nolabel', lw=1)\n",
        "for i in range(4, 12):\n",
        "    axes[1].plot(df_grads.iloc[:, i].abs(), c='r', label='abs(hidden gradients)' if i==4 else '__nolabel', lw=1)\n",
        "\n",
        "for i in range(1, 2):\n",
        "    axes[2].plot(df_params.iloc[:, i].abs(), c='r', label='abs(output weights)' if i==1 else '__nolabel', lw=1)\n",
        "\n",
        "axes[2].plot(df_params.iloc[:, 2].abs(), c='b', label='abs(output bias)', lw=1)\n",
        "\n",
        "for i in range(3, 7):\n",
        "    axes[2].plot(df_params.iloc[:, i].abs(), c='g', label='abs(hidden weights)' if i==3 else '__nolabel', lw=1)\n",
        "\n",
        "for i in range(7, 9):\n",
        "    axes[2].plot(df_params.iloc[:, i].abs(), c='y', label='abs(hidden bias)' if i==7 else '__nolabel', lw=1)\n",
        "\n",
        "axes[1].legend()\n",
        "axes[1].set_yscale('log')\n",
        "\n",
        "axes[2].legend()\n",
        "axes[2].set_yscale('log')\n",
        "\n",
        "fig.tight_layout()"
      ],
      "execution_count": 22,
      "outputs": [
        {
          "output_type": "display_data",
          "data": {
            "image/png": "[encoded data removed]",
            "text/plain": [
              "<Figure size 432x576 with 3 Axes>"
            ]
          },
          "metadata": {
            "needs_background": "light"
          }
        }
      ]
    },
    {
      "cell_type": "code",
      "metadata": {
        "id": "Li_DPyYtph9Y",
        "colab": {
          "base_uri": "https://localhost:8080/",
          "height": 314
        },
        "outputId": "5552b206-4711-4a44-bfd5-09040776cfc9"
      },
      "source": [
        "print(\"Result Plot:\")\n",
        "\n",
        "markers = ('s', 'X')\n",
        "colors = ('red', 'blue')\n",
        "\n",
        "x1_min, x1_max = x[:, 0].min() - 1, x[:, 0].max() + 1\n",
        "x2_min, x2_max = x[:, 1].min() - 1, x[:, 1].max() + 1\n",
        "xx1, xx2 = np.meshgrid(np.arange(x1_min, x1_max, 0.2),\n",
        "                       np.arange(x2_min, x2_max, 0.2))\n",
        "\n",
        "z = predict(np.array([xx1.ravel(), xx2.ravel()]).T)\n",
        "z = z.reshape(xx1.shape)\n",
        "\n",
        "fig, ax = plt.subplots()\n",
        "ax.contourf(xx1, xx2, z, alpha=0.4, cmap=ListedColormap(colors))\n",
        "ax.set_xlim(xx1.min(), xx1.max())\n",
        "ax.set_ylim(xx2.min(), xx2.max())\n",
        "\n",
        "for idx, cl in enumerate(np.unique(y)):\n",
        "    ax.scatter(x=x[(y == cl).ravel(), 0],\n",
        "               y=x[(y == cl).ravel(), 1],\n",
        "               alpha=0.8, c=colors[idx],\n",
        "               marker=markers[idx], label=cl)\n",
        "ax.legend()\n",
        "ax.set_xlabel('$x_1$')\n",
        "ax.set_ylabel('$x_2$')\n",
        "fig.tight_layout()"
      ],
      "execution_count": 23,
      "outputs": [
        {
          "output_type": "stream",
          "name": "stdout",
          "text": [
            "Result Plot:\n"
          ]
        },
        {
          "output_type": "display_data",
          "data": {
            "image/png": "[encoded data removed]",
            "text/plain": [
              "<Figure size 432x288 with 1 Axes>"
            ]
          },
          "metadata": {
            "needs_background": "light"
          }
        }
      ]
    },
    {
      "cell_type": "markdown",
      "metadata": {
        "id": "x4fpEyrz1RHI"
      },
      "source": [
        "#Accuracy Prediction Again"
      ]
    },
    {
      "cell_type": "code",
      "metadata": {
        "id": "xLC87A5Nts0L",
        "colab": {
          "base_uri": "https://localhost:8080/"
        },
        "outputId": "0541c228-6fbd-4c28-df79-343a8f39025f"
      },
      "source": [
        "lr = LogisticRegression(solver='lbfgs')\n",
        "lr.fit(Xred, R)\n",
        "predict = lr.predict(Xred)\n",
        "print (\"Variance=\", Xred.var(axis=0), sum(Xred.var(axis=0)))\n",
        "print(\"Accuracy = \", accuracy_score(predict, R))"
      ],
      "execution_count": 24,
      "outputs": [
        {
          "output_type": "stream",
          "name": "stdout",
          "text": [
            "Variance= [0.25 0.25] 0.49999999999999994\n",
            "Accuracy =  0.5\n"
          ]
        }
      ]
    },
    {
      "cell_type": "code",
      "metadata": {
        "id": "yUxfi3GwzASC",
        "colab": {
          "base_uri": "https://localhost:8080/"
        },
        "outputId": "2a5619b7-54fd-47c5-da97-9eaaced30c75"
      },
      "source": [
        "Xtrain = list(zip(x[: , 1], x[:,0]))\n",
        "print (Xtrain)\n",
        "lr = LogisticRegression(solver='lbfgs')\n",
        "lr.fit(Xtrain, R)\n",
        "predict = lr.predict(Xtrain)\n",
        "print(accuracy_score(predict, R))"
      ],
      "execution_count": 25,
      "outputs": [
        {
          "output_type": "stream",
          "name": "stdout",
          "text": [
            "[(0, 0), (1, 0), (0, 1), (1, 1)]\n",
            "0.5\n"
          ]
        }
      ]
    },
    {
      "cell_type": "markdown",
      "metadata": {
        "id": "hEEF3tBC1vBV"
      },
      "source": [
        "#Squared Error"
      ]
    },
    {
      "cell_type": "code",
      "metadata": {
        "id": "MPg4F0GV1w7z",
        "colab": {
          "base_uri": "https://localhost:8080/"
        },
        "outputId": "6462126f-5cb1-4cee-86e3-89687b9ae277"
      },
      "source": [
        "print(math.exp(e)) #e is taken from the iterations, and e is the mean of the errors\n",
        "#it just needs to be squared to complete the squared error as e is the mean of the inputs and outputs"
      ],
      "execution_count": 26,
      "outputs": [
        {
          "output_type": "stream",
          "name": "stdout",
          "text": [
            "1.0001000047555575\n"
          ]
        }
      ]
    }
  ]
}